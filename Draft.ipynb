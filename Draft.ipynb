{
 "cells": [
  {
   "cell_type": "code",
   "execution_count": 63,
   "metadata": {},
   "outputs": [],
   "source": [
    "import numpy as np\n",
    "import sympy as sp\n",
    "from scipy.optimize import minimize\n",
    "from scipy.special import roots_legendre\n",
    "import scipy.linalg as la\n",
    "import matplotlib.pyplot as plt\n",
    "from FEM import *\n",
    "from tools import *\n",
    "from shape_functions import *\n",
    "# plt.style.use('default')\n",
    "import copy\n",
    "fontsize = 15"
   ]
  },
  {
   "cell_type": "code",
   "execution_count": 64,
   "metadata": {},
   "outputs": [],
   "source": [
    "num_elems = 4\n",
    "domain = (0, 1)\n",
    "p = 3\n",
    "mesh = np.linspace(domain[0], domain[1], num_elems+1)\n",
    "a = .5*1\n",
    "xb = 0.8\n",
    "if a == 50:\n",
    "    U_init = 1.585854059271320\n",
    "elif a == 0.5:\n",
    "    U_init = 0.03559183822564316\n",
    "exact_func = exact_fn(a = a, xb=xb)\n",
    "rhs_func = rhs_fn(a=a, xb=xb)\n",
    "BCs = (exact_func(domain[0]), exact_func(domain[-1]))\n"
   ]
  },
  {
   "cell_type": "code",
   "execution_count": 83,
   "metadata": {},
   "outputs": [],
   "source": [
    "\n",
    "\n",
    "def FEM_1D(shape_class = Hierarchical, p = 3, num_elems = 3, domain = (0, 1),rhs_func = rhs_fn(a=50, xb=0.8), exact_func=exact_fn(0.5,0.8), BCs = (0, 0), verbose = False):\n",
    "    N=6\n",
    "    mesh = np.linspace(domain[0], domain[1], num_elems+1)\n",
    "    ori_phi_phip = {'phis': [], 'phips': []}\n",
    "    for elem in range(num_elems):\n",
    "        scale = [mesh[elem], mesh[elem+1]]\n",
    "        phis, phips = shape_class(scale, p)\n",
    "        ori_phi_phip['phis'].append(phis)\n",
    "        ori_phi_phip['phips'].append(phips)\n",
    "\n",
    "\n",
    "    linear_phi_phip = {'phis': [], 'phips': []}  # Linear\n",
    "    for elem in range(num_elems):\n",
    "        linear_phis = []\n",
    "        linear_phips = []\n",
    "        for idx in range(len(ori_phi_phip['phis'][elem])):\n",
    "            if ori_phi_phip['phis'][elem][idx].p < 2:\n",
    "                phi = ori_phi_phip['phis'][elem][idx]\n",
    "                phip = ori_phi_phip['phips'][elem][idx]\n",
    "                linear_phi_phip['phis'].append(phi)\n",
    "                linear_phi_phip['phips'].append(phip)\n",
    "                linear_phis.append(phi)\n",
    "                linear_phips.append(phip)\n",
    "        linear_K_sub = np.zeros((len(linear_phips), len(linear_phips)))\n",
    "        for indx, x in np.ndenumerate(linear_K_sub):\n",
    "            linear_K_sub[indx] = G_integrate(\n",
    "                mul(linear_phips[indx[0]], linear_phips[indx[-1]]), N=6, scale=linear_phips[indx[0]].scale)\n",
    "            if abs(linear_K_sub[indx]) < 1e-10:\n",
    "                linear_K_sub[indx] = 0\n",
    "        # print('K_sub', K_sub)\n",
    "        linear_F_sub = np.zeros(len(linear_K_sub))\n",
    "        for indx in range(len(linear_F_sub)):\n",
    "            linear_F_sub[indx] = G_integrate(\n",
    "                mul(rhs_func, linear_phis[indx]), N=N, scale=linear_phis[indx].scale)\n",
    "            # print(phis[indx](mesh[i]))\n",
    "        if elem == 0:\n",
    "            K = linear_K_sub\n",
    "            F = linear_F_sub\n",
    "        else:\n",
    "            K = assemble(K, linear_K_sub)\n",
    "            F = assemble(F, linear_F_sub)\n",
    "            \n",
    "    linear_num = len(F)\n",
    "\n",
    "    nonlinear_phi_phip = {'phis': [], 'phips': []}\n",
    "    for order in range(2, p+1):  # Non Linear\n",
    "        # print('order', order)\n",
    "        for elem in range(num_elems):\n",
    "            for idx in range(len(ori_phi_phip['phis'][elem])):\n",
    "                if (ori_phi_phip['phis'][elem][idx].p == order) or (ori_phi_phip['phips'][elem][idx].p == order):\n",
    "                    nonlinear_phi = ori_phi_phip['phis'][elem][idx]\n",
    "                    nonlinear_phip = ori_phi_phip['phips'][elem][idx]\n",
    "                    nonlinear_phi_phip['phis'].append(nonlinear_phi)\n",
    "                    nonlinear_phi_phip['phips'].append(nonlinear_phip)\n",
    "                    nonlinear_K_sub = np.zeros((2, 2))\n",
    "                    # print('nonlinear_phip', nonlinear_phip.p)\n",
    "                    # print(G_integrate(mul(nonlinear_phip, nonlinear_phip),N=N, scale=nonlinear_phip.scale))\n",
    "                    \n",
    "                    nonlinear_K_sub[-1, -1] = G_integrate(mul(nonlinear_phip, nonlinear_phip),N=N, scale=nonlinear_phip.scale)\n",
    "                    nonlinear_F_sub = np.zeros(2)\n",
    "                    nonlinear_F_sub[-1] = G_integrate(mul(rhs_func, nonlinear_phi), N=N, scale=nonlinear_phi.scale)\n",
    "\n",
    "                    K = assemble(K, nonlinear_K_sub)\n",
    "                    F = assemble(F, nonlinear_F_sub)\n",
    "                else:\n",
    "                    pass\n",
    "                \n",
    "    # Applying boundary condition\n",
    "    \n",
    "    K[0, 1:] = 0.0 \n",
    "    K[linear_num-1, :linear_num-1] = 0.0\n",
    "    F[0] = BCs[0]* K[0, 0] # -= or = ??\n",
    "    F[linear_num-1] = BCs[-1] * K[linear_num-1, linear_num-1]\n",
    "\n",
    "    U = -la.solve(K, F)\n",
    "    # print(F)\n",
    "    phi_phip = {'phis': [], 'phips': []}\n",
    "    phi_phip['phis'] = joint_funcs(linear_phi_phip['phis']) + nonlinear_phi_phip['phis']\n",
    "    phi_phip['phips'] = joint_funcs(linear_phi_phip['phips']) + nonlinear_phi_phip['phips']\n",
    "    u_list = []\n",
    "    print(len(phi_phip['phis']))\n",
    "    print(len(U))\n",
    "    for i in range(len(phi_phip['phis'])):\n",
    "        u_list.append(mul(U[i], phi_phip['phis'][i]))\n",
    "    uh = plus(u_list)\n",
    "    eigenvalues = np.linalg.eigvals(K)\n",
    "    cont_K = max(eigenvalues)/min(eigenvalues)\n",
    "    if verbose == True:\n",
    "        print(f\"Shape class: {shape_class.__name__}, Number of elements: {num_elems}, Polynomial order:{p},  Domain: {domain}, Boundary conditions: {BCs}\")\n",
    "        x_data = np.linspace(domain[0], domain[1], 101)\n",
    "        plt.plot(x_data, exact_func(x_data), label='Analytical solution')\n",
    "        plt.plot(x_data, uh(x_data), label='FEM solution {} elements'.format(num_elems))\n",
    "        for i in range(len(phi_phip['phis'])):\n",
    "            func = phi_phip['phis'][i]\n",
    "            plt.plot(x_data, U[i]*func(x_data))\n",
    "        plt.legend()\n",
    "        plt.show()\n",
    "    return U, phi_phip, uh, cont_K, K\n",
    "\n"
   ]
  },
  {
   "cell_type": "code",
   "execution_count": 73,
   "metadata": {},
   "outputs": [
    {
     "name": "stdout",
     "output_type": "stream",
     "text": [
      "9.472135954999576\n",
      "9.472135954999576\n",
      "9.472135954999576\n",
      "9.472135954999576\n",
      "9.472135954999576\n"
     ]
    }
   ],
   "source": [
    "\n",
    "p_list = [3]\n",
    "for p in range(1, 6):\n",
    "\n",
    "    U_p, phi_phip_p, uh_p, cont_K_p, K = FEM_1D(shape_class = Hierarchical,p = p, num_elems = 5, domain = domain,rhs_func = rhs_func,exact_func=exact_func, BCs = BCs, verbose = False)\n",
    "    print(cont_K_p)"
   ]
  },
  {
   "cell_type": "code",
   "execution_count": 67,
   "metadata": {},
   "outputs": [
    {
     "data": {
      "text/plain": [
       "array([4., 2., 2., 4., 4., 4., 4.])"
      ]
     },
     "execution_count": 67,
     "metadata": {},
     "output_type": "execute_result"
    }
   ],
   "source": [
    "K = [[ 2., 0,  0.,  0.,  0.,  0.,  0.],\n",
    " [-2,  4., -2.,  0.,  0.,  0.,  0.],\n",
    " [ 0., -0,  2.,  0.,  0.,  0.,  0.],\n",
    " [ 0.,  0.,  0.,  4.,  0.,  0.,  0.],\n",
    " [ 0.,  0.,  0.,  0.,  4.,  0.,  0.],\n",
    " [ 0.,  0.,  0.,  0.,  0.,  4.,  0.],\n",
    " [ 0.,  0.,  0.,  0.,  0.,  0.,  4.]]\n",
    "eigenvalues = np.linalg.eigvals(K)\n",
    "eigenvalues"
   ]
  },
  {
   "cell_type": "code",
   "execution_count": null,
   "metadata": {},
   "outputs": [],
   "source": [
    "\n"
   ]
  },
  {
   "cell_type": "code",
   "execution_count": 74,
   "metadata": {},
   "outputs": [
    {
     "name": "stdout",
     "output_type": "stream",
     "text": [
      "1.0\n",
      "2.0\n"
     ]
    },
    {
     "ename": "IndexError",
     "evalue": "index 4 is out of bounds for axis 0 with size 4",
     "output_type": "error",
     "traceback": [
      "\u001b[0;31m---------------------------------------------------------------------------\u001b[0m",
      "\u001b[0;31mIndexError\u001b[0m                                Traceback (most recent call last)",
      "Cell \u001b[0;32mIn[74], line 4\u001b[0m\n\u001b[1;32m      1\u001b[0m p_list \u001b[39m=\u001b[39m [\u001b[39m5\u001b[39m]\n\u001b[1;32m      2\u001b[0m \u001b[39mfor\u001b[39;00m p \u001b[39min\u001b[39;00m \u001b[39mrange\u001b[39m(\u001b[39m1\u001b[39m, \u001b[39m6\u001b[39m):\n\u001b[0;32m----> 4\u001b[0m     U_q, phi_phip_q, uh_q, cont_K_q, K_q \u001b[39m=\u001b[39m FEM_1D(shape_class \u001b[39m=\u001b[39;49m linear,p \u001b[39m=\u001b[39;49m p, num_elems \u001b[39m=\u001b[39;49m p, domain \u001b[39m=\u001b[39;49m domain,rhs_func \u001b[39m=\u001b[39;49m rhs_func,exact_func\u001b[39m=\u001b[39;49mexact_func, BCs \u001b[39m=\u001b[39;49m BCs, verbose \u001b[39m=\u001b[39;49m \u001b[39mFalse\u001b[39;49;00m)\n\u001b[1;32m      5\u001b[0m     \u001b[39mprint\u001b[39m(cont_K_q)\n",
      "Cell \u001b[0;32mIn[65], line 82\u001b[0m, in \u001b[0;36mFEM_1D\u001b[0;34m(shape_class, p, num_elems, domain, rhs_func, exact_func, BCs, verbose)\u001b[0m\n\u001b[1;32m     80\u001b[0m u_list \u001b[39m=\u001b[39m []\n\u001b[1;32m     81\u001b[0m \u001b[39mfor\u001b[39;00m i \u001b[39min\u001b[39;00m \u001b[39mrange\u001b[39m(\u001b[39mlen\u001b[39m(phi_phip[\u001b[39m'\u001b[39m\u001b[39mphis\u001b[39m\u001b[39m'\u001b[39m])):\n\u001b[0;32m---> 82\u001b[0m     u_list\u001b[39m.\u001b[39mappend(mul(U[i], phi_phip[\u001b[39m'\u001b[39m\u001b[39mphis\u001b[39m\u001b[39m'\u001b[39m][i]))\n\u001b[1;32m     83\u001b[0m uh \u001b[39m=\u001b[39m plus(u_list)\n\u001b[1;32m     84\u001b[0m eigenvalues \u001b[39m=\u001b[39m np\u001b[39m.\u001b[39mlinalg\u001b[39m.\u001b[39meigvals(K)\n",
      "\u001b[0;31mIndexError\u001b[0m: index 4 is out of bounds for axis 0 with size 4"
     ]
    }
   ],
   "source": [
    "\n",
    "p_list = [5]\n",
    "for p in range(1, 6):\n",
    "\n",
    "    U_q, phi_phip_q, uh_q, cont_K_q, K_q = FEM_1D(shape_class = linear,p = p, num_elems = p, domain = domain,rhs_func = rhs_func,exact_func=exact_func, BCs = BCs, verbose = False)\n",
    "    print(cont_K_q)"
   ]
  },
  {
   "cell_type": "code",
   "execution_count": 89,
   "metadata": {},
   "outputs": [
    {
     "name": "stdout",
     "output_type": "stream",
     "text": [
      "32\n",
      "32\n",
      "388.8121344932208\n"
     ]
    }
   ],
   "source": [
    "U_q, phi_phip_q, uh_q, cont_K_q, K_q = FEM_1D(shape_class = linear,p = 11, num_elems = 31, domain = domain,rhs_func = rhs_func,exact_func=exact_func, BCs = BCs, verbose = False)\n",
    "print(cont_K_q)"
   ]
  },
  {
   "cell_type": "code",
   "execution_count": 69,
   "metadata": {},
   "outputs": [
    {
     "data": {
      "text/plain": [
       "array([ 0.97886967,  3.81966011,  8.24429495, 13.81966011, 20.        ,\n",
       "       39.02113033, 36.18033989, 26.18033989, 31.75570505, 10.        ,\n",
       "       10.        ])"
      ]
     },
     "execution_count": 69,
     "metadata": {},
     "output_type": "execute_result"
    }
   ],
   "source": [
    "eigenvalues = np.linalg.eigvals(K_q)\n",
    "eigenvalues"
   ]
  },
  {
   "cell_type": "code",
   "execution_count": 93,
   "metadata": {},
   "outputs": [
    {
     "name": "stdout",
     "output_type": "stream",
     "text": [
      "3\n"
     ]
    }
   ],
   "source": [
    "functions = np.zeros(6)\n",
    "if len(functions)%3==0:\n",
    "        chunk_size = 3\n",
    "elif len(functions)%2==0:\n",
    "        chunk_size = 2\n",
    "        \n",
    "print(chunk_size)"
   ]
  },
  {
   "cell_type": "code",
   "execution_count": 95,
   "metadata": {},
   "outputs": [
    {
     "ename": "NameError",
     "evalue": "name 'refine_mesh' is not defined",
     "output_type": "error",
     "traceback": [
      "\u001b[0;31m---------------------------------------------------------------------------\u001b[0m",
      "\u001b[0;31mNameError\u001b[0m                                 Traceback (most recent call last)",
      "Cell \u001b[0;32mIn[95], line 18\u001b[0m\n\u001b[1;32m     14\u001b[0m tri \u001b[39m=\u001b[39m Delaunay(p\u001b[39m.\u001b[39mT)\n\u001b[1;32m     16\u001b[0m \u001b[39mfor\u001b[39;00m i \u001b[39min\u001b[39;00m \u001b[39mrange\u001b[39m(\u001b[39m5\u001b[39m):\n\u001b[1;32m     17\u001b[0m     \u001b[39m# 细化网格\u001b[39;00m\n\u001b[0;32m---> 18\u001b[0m     p \u001b[39m=\u001b[39m refine_mesh(p, tri\u001b[39m.\u001b[39msimplices)  \u001b[39m# 自定义函数，需要实现\u001b[39;00m\n\u001b[1;32m     19\u001b[0m     tri \u001b[39m=\u001b[39m Delaunay(p\u001b[39m.\u001b[39mT)\n\u001b[1;32m     20\u001b[0m     plt\u001b[39m.\u001b[39mtriplot(p[\u001b[39m0\u001b[39m], p[\u001b[39m1\u001b[39m], tri\u001b[39m.\u001b[39msimplices)\n",
      "\u001b[0;31mNameError\u001b[0m: name 'refine_mesh' is not defined"
     ]
    }
   ],
   "source": [
    "import numpy as np\n",
    "import matplotlib.pyplot as plt\n",
    "from scipy.spatial import Delaunay\n",
    "from scipy.sparse import lil_matrix\n",
    "from scipy.sparse.linalg import spsolve\n",
    "\n",
    "# 基本设置\n",
    "hmax = 0.25\n",
    "coef = lambda x, y: 1\n",
    "righthand = lambda x, y: 2\n",
    "\n",
    "# 初始化网格\n",
    "p = np.mgrid[0:1:hmax, 0:1:hmax].reshape(2,-1)\n",
    "tri = Delaunay(p.T)\n",
    "\n",
    "for i in range(5):\n",
    "    # 细化网格\n",
    "    p = refine_mesh(p, tri.simplices)  # 自定义函数，需要实现\n",
    "    tri = Delaunay(p.T)\n",
    "    plt.triplot(p[0], p[1], tri.simplices)\n",
    "    \n",
    "    # 处理边界条件\n",
    "    boundary_nodes = np.unique(tri.convex_hull)\n",
    "    A = assemble_matrix_2D2(coef, p, tri.simplices)  # 自定义函数，需要实现\n",
    "    b = assemble_vector_2D(righthand, p, tri.simplices)  # 自定义函数，需要实现\n",
    "    A, b = treat_boundary_condition(A, b, p, boundary_nodes)  # 自定义函数，需要实现\n",
    "    \n",
    "    # 解线性方程组\n",
    "    u = spsolve(A, b)\n",
    "    \n",
    "    # 绘图\n",
    "    fig = plt.figure()\n",
    "    ax = fig.add_subplot(projection='3d')\n",
    "    ax.plot_trisurf(p[0], p[1], u, cmap=plt.cm.jet, linewidth=0.2)\n",
    "    plt.show()\n"
   ]
  },
  {
   "cell_type": "code",
   "execution_count": 1,
   "metadata": {},
   "outputs": [
    {
     "name": "stdout",
     "output_type": "stream",
     "text": [
      "[[-0.33333333  0.66666667]\n",
      " [ 0.66666667 -0.33333333]]\n"
     ]
    }
   ],
   "source": [
    "import numpy as np\n",
    "\n",
    "def compute_affine_transformation(src, dst):\n",
    "    \"\"\"Compute the affine transformation matrix from src to dst.\"\"\"\n",
    "    # Construct the matrix A\n",
    "    A = np.array([\n",
    "        [src[0][0], src[0][1], 1, 0, 0, 0],\n",
    "        [0, 0, 0, src[0][0], src[0][1], 1],\n",
    "        [src[1][0], src[1][1], 1, 0, 0, 0],\n",
    "        [0, 0, 0, src[1][0], src[1][1], 1],\n",
    "        [src[2][0], src[2][1], 1, 0, 0, 0],\n",
    "        [0, 0, 0, src[2][0], src[2][1], 1]\n",
    "    ])\n",
    "    # Construct the matrix b\n",
    "    b = np.array([\n",
    "        dst[0][0],\n",
    "        dst[0][1],\n",
    "        dst[1][0],\n",
    "        dst[1][1],\n",
    "        dst[2][0],\n",
    "        dst[2][1]\n",
    "    ])\n",
    "    \n",
    "    # Solve the system\n",
    "    x = np.linalg.solve(A, b)\n",
    "    \n",
    "    # Construct the transformation matrix\n",
    "    transform = np.array([\n",
    "        [x[0], x[1], x[2]],\n",
    "        [x[3], x[4], x[5]],\n",
    "        [0, 0, 1]\n",
    "    ])\n",
    "    return transform\n",
    "\n",
    "src_tri = np.array([[0,0], [1,2], [2,1]])\n",
    "dst_tri = np.array([[0, 0], [1, 0], [0, 1]])\n",
    "\n",
    "transformation = compute_affine_transformation(src_tri, dst_tri)\n",
    "jacobian = transformation[:2, :2]\n",
    "print(jacobian)\n"
   ]
  }
 ],
 "metadata": {
  "kernelspec": {
   "display_name": "FEM",
   "language": "python",
   "name": "python3"
  },
  "language_info": {
   "codemirror_mode": {
    "name": "ipython",
    "version": 3
   },
   "file_extension": ".py",
   "mimetype": "text/x-python",
   "name": "python",
   "nbconvert_exporter": "python",
   "pygments_lexer": "ipython3",
   "version": "3.9.16"
  },
  "orig_nbformat": 4
 },
 "nbformat": 4,
 "nbformat_minor": 2
}
