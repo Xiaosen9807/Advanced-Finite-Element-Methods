{
 "cells": [
  {
   "cell_type": "code",
   "execution_count": 2,
   "metadata": {},
   "outputs": [],
   "source": [
    "\"\"\"Backend supported: tensorflow.compat.v1, tensorflow, pytorch, paddle\"\"\"\n",
    "import deepxde as dde\n",
    "import numpy as np\n",
    "\n",
    "from consts import *\n",
    "\n",
    "def find_region(value):\n",
    "    r1 = consts[\"r1\"]\n",
    "    r2 = consts[\"r2\"]\n",
    "    r3 = consts[\"r3\"]\n",
    "    r4 = consts[\"r4\"]\n",
    "\n",
    "    # 判断值落在哪个区间\n",
    "    if 0 <= value < r1: \n",
    "        return int(0)\n",
    "    elif r1 <= value < r2:\n",
    "        return int(1)\n",
    "    elif r2 <= value < r3:\n",
    "        return int(2)\n",
    "    elif r3 <= value <= r4:\n",
    "        return int(3)\n",
    "    else:\n",
    "        raise ValueError(\"Value {} is less than 0 or larger than r4\".format(value))\n"
   ]
  },
  {
   "cell_type": "code",
   "execution_count": 5,
   "metadata": {},
   "outputs": [
    {
     "name": "stdout",
     "output_type": "stream",
     "text": [
      "Compiling model...\n",
      "'compile' took 0.000478 s\n",
      "\n",
      "Training model...\n",
      "\n",
      "Step      Train loss                        Test loss                         Test metric   \n",
      "0         [inf, 1.80e-04, 1.58e+01]         [7.53e+12, 1.80e-04, 1.58e+01]    [9.98e-01]    \n",
      "1000      [nan, nan, nan]                   [nan, nan, nan]                   [nan]         \n",
      "\n",
      "Best model at step 0:\n",
      "  train loss: inf\n",
      "  test loss: inf\n",
      "  test metric: \n",
      "\n",
      "'train' took 1.213775 s\n",
      "\n"
     ]
    }
   ],
   "source": [
    "\n",
    "def pde(x, y):\n",
    "    # region_idx = find_region(x)\n",
    "    Params = consts[\"Params\"][1]\n",
    "    mu = Params[\"mu\"]\n",
    "    Jz = Params[\"Jz\"]\n",
    "    dA_dr = dde.grad.jacobian(y, x)\n",
    "    drdA_ddr =dde.grad.jacobian(x * dA_dr, x) \n",
    "    return drdA_ddr / (x*mu) + Jz \n",
    "\n",
    "\n",
    "def boundary_l(x, on_boundary):\n",
    "    return on_boundary and dde.utils.isclose(x[0], -1)\n",
    "\n",
    "\n",
    "def boundary_r(x, on_boundary):\n",
    "    return on_boundary and dde.utils.isclose(x[0], 1)\n",
    "\n",
    "\n",
    "def func(x):\n",
    "    return (x + 1) ** 2\n",
    "\n",
    "\n",
    "geom = dde.geometry.Interval(, 1)\n",
    "bc_l = dde.icbc.DirichletBC(geom, func, boundary_l)\n",
    "bc_r = dde.icbc.NeumannBC(geom, lambda X: 2 * (X + 1), boundary_r)\n",
    "data = dde.data.PDE(geom, pde, [bc_l, bc_r], 16, 2, solution=func, num_test=100)\n",
    "\n",
    "layer_size = [1] + [50] * 3 + [1]\n",
    "activation = \"tanh\"\n",
    "initializer = \"Glorot uniform\"\n",
    "net = dde.nn.FNN(layer_size, activation, initializer)\n",
    "\n",
    "model = dde.Model(data, net)\n",
    "model.compile(\"adam\", lr=0.001, metrics=[\"l2 relative error\"])\n",
    "losshistory, train_state = model.train(iterations=10000)\n",
    "\n",
    "# dde.saveplot(losshistory, train_state, issave=True, isplot=True)"
   ]
  }
 ],
 "metadata": {
  "kernelspec": {
   "display_name": "FEM",
   "language": "python",
   "name": "python3"
  },
  "language_info": {
   "codemirror_mode": {
    "name": "ipython",
    "version": 3
   },
   "file_extension": ".py",
   "mimetype": "text/x-python",
   "name": "python",
   "nbconvert_exporter": "python",
   "pygments_lexer": "ipython3",
   "version": "3.9.18"
  }
 },
 "nbformat": 4,
 "nbformat_minor": 2
}
