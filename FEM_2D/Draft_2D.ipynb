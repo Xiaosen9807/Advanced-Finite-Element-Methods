{
 "cells": [
  {
   "cell_type": "code",
   "execution_count": 1,
   "metadata": {},
   "outputs": [],
   "source": [
    "import numpy as np\n",
    "import matplotlib.pyplot as plt\n",
    "import sympy as sp\n",
    "\n",
    "class shape_fns:\n",
    "    def __init__(self, scale_x = [0, 1], scale_y = [0, 1], p=0):\n",
    "        self.scale_x = scale_x\n",
    "        self.scale_y = scale_y\n",
    "        self.x_l = scale_x[0]\n",
    "        self.x_r = scale_x[1]\n",
    "        self.y_l = scale_y[0]\n",
    "        self.y_r = scale_y[1]\n",
    "        self.p = p\n",
    "        \n",
    "    def expression(self, ksi, neta): \n",
    "        return 1-ksi-neta\n",
    "    \n",
    "    def __call__(self, x, y):\n",
    "        x = np.asarray(x)  # convert x to a numpy array if it's not already\n",
    "        y = np.asarray(y)  # convert y to a numpy array if it's not already\n",
    "        expression_vectorized = np.vectorize(self.expression, otypes=['d'])\n",
    "        return np.where((self.x_l <= x) & (x <= self.x_r) & (self.y_l <= y) & (y <= self.y_r), expression_vectorized(x, y), 0)\n"
   ]
  },
  {
   "cell_type": "code",
   "execution_count": 6,
   "metadata": {},
   "outputs": [
    {
     "data": {
      "text/plain": [
       "array([ 1.        ,  0.77777778,  0.55555556,  0.33333333,  0.11111111,\n",
       "       -0.11111111, -0.33333333, -0.55555556, -0.77777778, -1.        ])"
      ]
     },
     "execution_count": 6,
     "metadata": {},
     "output_type": "execute_result"
    }
   ],
   "source": [
    "shape_fn = shape_fns()\n",
    "x = np.linspace(0, 1, 10)\n",
    "y = np.linspace(0, 1, 10)\n",
    "shape_fn(x, y)"
   ]
  },
  {
   "cell_type": "code",
   "execution_count": 12,
   "metadata": {},
   "outputs": [
    {
     "data": {
      "text/plain": [
       "(array([[ 1. , -0.5],\n",
       "        [-1. ,  1. ]]),\n",
       " 2.0)"
      ]
     },
     "execution_count": 12,
     "metadata": {},
     "output_type": "execute_result"
    }
   ],
   "source": [
    "# compute Jacobian matrix\n",
    "def jacobian(X, dN):\n",
    "    # X is the global coordinate for each node.\n",
    "    # dN is the local coordinate of the phip\n",
    "\n",
    "    # compute Jacobian matrix\n",
    "    J = np.dot(np.transpose(X),dN)\n",
    "    return np.linalg.inv(J), np.linalg.det(J)\n",
    "X = [[0, 0], [1, 2], [2, 2]]\n",
    "dN = [[0, 0], [0, 1], [1, 0]]\n",
    "jacobian(X, dN)"
   ]
  },
  {
   "cell_type": "code",
   "execution_count": 1,
   "metadata": {},
   "outputs": [
    {
     "data": {
      "text/latex": [
       "$\\displaystyle \\left[\\begin{matrix}62.0790374066439 & -25.046191566743 & -37.032845839901\\\\-25.046191566743 & 74.59597111489 & -49.549779548147\\\\-37.032845839901 & -49.549779548147 & 86.5826253880479\\end{matrix}\\right]$"
      ],
      "text/plain": [
       "Matrix([\n",
       "[62.0790374066439, -25.046191566743, -37.032845839901],\n",
       "[-25.046191566743,   74.59597111489, -49.549779548147],\n",
       "[-37.032845839901, -49.549779548147, 86.5826253880479]])"
      ]
     },
     "execution_count": 1,
     "metadata": {},
     "output_type": "execute_result"
    }
   ],
   "source": [
    "import sympy as sym\n",
    "import numpy as np\n",
    "from sympy.matrices import Matrix\n",
    "\n",
    "# 定义三角形三个顶点的原始坐标 (x0, y0), (x1, y1), (x2, y2)\n",
    "x0, x1, x2, y0, y1, y2 = sym.symbols(['x_0', 'x_1', 'x_2', 'y_0', 'y_1', 'y_2'])\n",
    "\n",
    "\n",
    "[x0, y0], [x1, y1], [x2, y2] = [[0, 0], [2, 1], [0.5, 2]]\n",
    "[x0, y0], [x1, y1], [x2, y2] = [[1, 0.9], [2, 1.3], [0.5, 1.7]]\n",
    "[x0, y0], [x1, y1], [x2, y2] = [[16.45327476, 25.20273424], [23.90255057, 19.62681142], [24.7911839 , 27.45556408]]\n",
    "\n",
    "\n",
    "# 定义等参映射的雅可比矩阵\n",
    "J = Matrix([[x1-x0, y1-y0], \n",
    "            [x2-x0, y2-y0]])\n",
    "\n",
    "# 等腰直角等参单元的坐标 (eta, zeta)\n",
    "eta, zeta = sym.symbols(['\\eta', '\\zeta'])\n",
    "# eta, zeta = [1, 1]\n",
    "u0 = 1 - eta - zeta\n",
    "u1 = eta\n",
    "u2 = zeta\n",
    "\n",
    "# 对每个顶点计算 [du/deta, du/dzeta]\n",
    "du = Matrix([[sym.diff(u0, eta),sym.diff(u1, eta),sym.diff(u2, eta)],\n",
    "[sym.diff(u0, zeta), sym.diff(u1, zeta), sym.diff(u2, zeta)]])\n",
    "\n",
    "# 对每个顶点，计算 du/dx, du/dy = J^{-1} * [du/deta, du/dzeta]\n",
    "def deriv_u(): \n",
    "    return sym.simplify(J.inv() * du)\n",
    "\n",
    "# 计算第 e 个单元的 9 个非零矩阵元；省略前面的因子 1/2|J|\n",
    "Ke = sym.zeros(3,3)\n",
    "du_ =  deriv_u() * J.det()\n",
    "for i in range(3):\n",
    "    for j in range(3):\n",
    "        Ke[i, j] = du_[:, i].dot(du_[:, j])\n",
    "Ke        "
   ]
  },
  {
   "cell_type": "code",
   "execution_count": 97,
   "metadata": {},
   "outputs": [
    {
     "name": "stdout",
     "output_type": "stream",
     "text": [
      "[[ 0.6 -0.7]\n",
      " [-0.2  0.4]]\n"
     ]
    }
   ],
   "source": [
    "import numpy as np\n",
    "\n",
    "# 定义一个 2x2 矩阵\n",
    "matrix = np.array([[4, 7], [2, 6]])\n",
    "\n",
    "# 计算其逆矩阵\n",
    "matrix_inverse = np.linalg.inv(matrix)\n",
    "\n",
    "print(matrix_inverse)\n"
   ]
  },
  {
   "cell_type": "code",
   "execution_count": 105,
   "metadata": {},
   "outputs": [
    {
     "data": {
      "text/latex": [
       "$\\displaystyle \\left[\\begin{matrix}-1 & 1 & 0\\\\-1 & 0 & 1\\end{matrix}\\right]$"
      ],
      "text/plain": [
       "Matrix([\n",
       "[-1, 1, 0],\n",
       "[-1, 0, 1]])"
      ]
     },
     "execution_count": 105,
     "metadata": {},
     "output_type": "execute_result"
    }
   ],
   "source": [
    "du"
   ]
  },
  {
   "cell_type": "code",
   "execution_count": 106,
   "metadata": {},
   "outputs": [
    {
     "data": {
      "text/latex": [
       "$\\displaystyle \\left[\\begin{matrix}2 & 1\\\\0.5 & 2\\end{matrix}\\right]$"
      ],
      "text/plain": [
       "Matrix([\n",
       "[  2, 1],\n",
       "[0.5, 2]])"
      ]
     },
     "execution_count": 106,
     "metadata": {},
     "output_type": "execute_result"
    }
   ],
   "source": [
    "J"
   ]
  },
  {
   "cell_type": "code",
   "execution_count": 110,
   "metadata": {},
   "outputs": [
    {
     "data": {
      "text/latex": [
       "$\\displaystyle \\left[\\begin{matrix}2.0 & -1.0\\\\-0.5 & 2.0\\end{matrix}\\right]$"
      ],
      "text/plain": [
       "Matrix([\n",
       "[ 2.0, -1.0],\n",
       "[-0.5,  2.0]])"
      ]
     },
     "execution_count": 110,
     "metadata": {},
     "output_type": "execute_result"
    }
   ],
   "source": [
    "J.inv()*J.det()"
   ]
  },
  {
   "cell_type": "code",
   "execution_count": 108,
   "metadata": {},
   "outputs": [
    {
     "data": {
      "text/latex": [
       "$\\displaystyle 3.5$"
      ],
      "text/plain": [
       "3.50000000000000"
      ]
     },
     "execution_count": 108,
     "metadata": {},
     "output_type": "execute_result"
    }
   ],
   "source": [
    "J.det()"
   ]
  },
  {
   "cell_type": "code",
   "execution_count": 5,
   "metadata": {},
   "outputs": [
    {
     "data": {
      "text/latex": [
       "$\\displaystyle \\frac{\\left(1 - \\eta\\right) \\left(1 - \\xi\\right)}{4}$"
      ],
      "text/plain": [
       "(1 - eta)*(1 - xi)/4"
      ]
     },
     "execution_count": 5,
     "metadata": {},
     "output_type": "execute_result"
    }
   ],
   "source": [
    "import sympy as sp\n",
    "ksi, neta = sp.symbols('xi eta')\n",
    "z = (1-ksi)*(1-neta)/4\n",
    "z"
   ]
  },
  {
   "cell_type": "code",
   "execution_count": 16,
   "metadata": {},
   "outputs": [
    {
     "data": {
      "text/plain": [
       "array(nan)"
      ]
     },
     "execution_count": 16,
     "metadata": {},
     "output_type": "execute_result"
    }
   ],
   "source": [
    "class shape_fns:\n",
    "    def __init__(self, scale_x = [0, 1], scale_y = [0, 1]):\n",
    "        self.scale_x = scale_x\n",
    "        self.scale_y = scale_y\n",
    "        self.x_l = scale_x[0]\n",
    "        self.x_r = scale_x[1]\n",
    "        self.y_l = scale_y[0]\n",
    "        self.y_r = scale_y[1]\n",
    "\n",
    "    def expression(self, ksi, neta):\n",
    "        pass  # 这里是你的表达式，具体内容需要你根据需求来填写\n",
    "\n",
    "    def __call__(self, x, y):\n",
    "        x = np.asarray(x)  # convert x to a numpy array if it's not already\n",
    "        y = np.asarray(y)  # convert y to a numpy array if it's not already\n",
    "        expression_vectorized = np.vectorize(self.expression, otypes=['d'])\n",
    "        return np.where((self.x_l <= x) & (x <= self.x_r) & (self.y_l <= y) & (y <= self.y_r), expression_vectorized(x, y), 0)\n",
    "\n",
    "class T3_phi(shape_fns):\n",
    "    def expression(self, ksi, neta): \n",
    "        return ksi + 2 * neta  # 假设你的函数是 ksi + 2 * neta\n",
    "\n",
    "    def derivative_ksi(self):\n",
    "        # 对于函数 f(ksi, neta) = ksi + 2 * neta\n",
    "        # 其在 ksi 方向上的偏导数为 1\n",
    "        return shape_fns(self.scale_x, self.scale_y)\n",
    "\n",
    "    def derivative_neta(self):\n",
    "        # 对于函数 f(ksi, neta) = ksi + 2 * neta\n",
    "        # 其在 neta 方向上的偏导数为 2\n",
    "        return shape_fns(self.scale_x, self.scale_y)\n",
    "    \n",
    "t3_phi = T3_phi()\n",
    "derivative_ksi = t3_phi.derivative_ksi()  # 获取在 ksi 方向上的偏导数\n",
    "derivative_neta = t3_phi.derivative_neta()  # 获取在 neta 方向上的偏导数\n",
    "\n",
    "derivative_ksi(0, 1)"
   ]
  },
  {
   "cell_type": "code",
   "execution_count": 46,
   "metadata": {},
   "outputs": [
    {
     "name": "stdout",
     "output_type": "stream",
     "text": [
      "The result from your function is:  0.0625\n",
      "The result from scipy.integrate is:  0.0625\n"
     ]
    }
   ],
   "source": [
    "from scipy import integrate\n",
    "import numpy as np\n",
    "\n",
    "# 你的积分函数\n",
    "def G_integrate_2D(u, N=3, scale = [0,1]):\n",
    "\n",
    "    a , b = scale # Projection from [-1, 1] to [1, 1]\n",
    "    x, wx = np.polynomial.legendre.leggauss(N)\n",
    "    y, wy = np.polynomial.legendre.leggauss(N)\n",
    "    xp = x*(b-a)/2+(b+a)/2\n",
    "    wxp = wx*(b-a)/2\n",
    "    yp = y*(b-a)/2+(b+a)/2\n",
    "    wyp = wy*(b-a)/2\n",
    "    integral = 0.0\n",
    "    for i in range(N):\n",
    "        for j in range(N):\n",
    "            integral += wxp[i] * wyp[j] * u(xp[i], yp[j])\n",
    "            \n",
    "    return integral\n",
    "\n",
    "# 定义一个二维函数\n",
    "def f(x, y):\n",
    "    return x**3 * y**3\n",
    "# 使用你的函数计算积分\n",
    "result = G_integrate_2D(f)\n",
    "print(\"The result from your function is: \", result)\n",
    "\n",
    "# 使用 scipy.integrate 来验证结果\n",
    "result_scipy, error = integrate.dblquad(f, 0, 1, lambda x: 0, lambda x: 1)\n",
    "print(\"The result from scipy.integrate is: \", result_scipy)\n"
   ]
  },
  {
   "cell_type": "code",
   "execution_count": 141,
   "metadata": {},
   "outputs": [
    {
     "data": {
      "text/latex": [
       "$\\displaystyle n_{x} n_{y} \\left(n_{x}^{2} \\left(- 4 n_{x}^{2} \\rho_{a}^{2} - 4 n_{y}^{2} \\rho_{b}^{2} + 7 \\rho_{a}^{2} + 3 \\rho_{b}^{2} - 4\\right) - 3 \\rho_{a}^{2} + 1\\right)$"
      ],
      "text/plain": [
       "n_x*n_y*(n_x**2*(-4*n_x**2*rho_a**2 - 4*n_y**2*rho_b**2 + 7*rho_a**2 + 3*rho_b**2 - 4) - 3*rho_a**2 + 1)"
      ]
     },
     "execution_count": 141,
     "metadata": {},
     "output_type": "execute_result"
    }
   ],
   "source": [
    "from sympy import symbols, sqrt\n",
    "\n",
    "# Define the symbols\n",
    "a, b, lambda_, x, y, n_x, n_y, rho_a, rho_b, sigma_0 = symbols('a, b, lambda_, x, y, n_x, n_y, rho_a, rho_b, sigma_0')\n",
    "\n",
    "\n",
    "# Define H_1 to H_5\n",
    "H_1 = (a**2 * rho_a**2 * rho_b**2 + b**2 * rho_a**2 + a * b * rho_a * rho_b) / (a * rho_b + b * rho_a)**2 - rho_b**2 * n_x**2 - rho_a**2 * n_y**2 + (5 * rho_a**2 + 5 * rho_b**2 - 4 * rho_a**2 * n_x**2 - 4 * rho_b**2 * n_y**2 - 4) * n_x**2 * n_y**2\n",
    "H_2 = (rho_b * a * (a * rho_b + b * rho_a + 2 * b * rho_a * rho_b**2 + a * rho_b**3)) / (a * rho_b + b * rho_a)**2 + n_y**2 * (2 - 6 * rho_b**2 + (rho_a**2 + 9 * rho_b**2 - 4 * rho_a**2 * n_x**2 - 4 * rho_b**2 * n_y**2 - 4) * n_y**2)\n",
    "H_3 = n_x * n_y * (1 - 3 * rho_b**2 + (3 * rho_a**2 + 7 * rho_b**2 - 4 * rho_a**2 * n_x**2 - 4 * rho_b**2 * n_y**2 - 4) * n_y**2)\n",
    "H_4 = (rho_a * b * (a * rho_b + b * rho_a + 2 * a * rho_a**2 * rho_b + b * rho_a**3)) / (a * rho_b + b * rho_a)**2 + n_x**2 * (2 - 6 * rho_a**2 + (9 * rho_a**2 + rho_b**2 - 4 * rho_a**2 * n_x**2 - 4 * rho_b**2 * n_y**2 - 4) * n_x**2)\n",
    "H_5 = n_x * n_y * (1 - 3 * rho_a**2 + (7 * rho_a**2 + 3 * rho_b**2 - 4 * rho_a**2 * n_x**2 - 4 * rho_b**2 * n_y**2 - 4) * n_x**2)\n",
    "\n",
    "# Define rho_a and rho_b\n",
    "rho_a = a / sqrt(a**2 + lambda_)\n",
    "rho_b = b / sqrt(b**2 + lambda_)\n",
    "\n",
    "# Define n_x and n_y\n",
    "n_x = x * (b**2 + lambda_) / sqrt(x**2 * (b**2 + lambda_)**2 + y**2 * (a**2 + lambda_)**2 )\n",
    "n_y = y * (a**2 + lambda_) / sqrt(x**2 * (b**2 + lambda_)**2 + y**2 * (a**2 + lambda_)**2 )\n",
    "\n",
    "lambda_ = 1/2 * (x**2 + y**2 - a**2 - b**2 + ((x**2 + y**2 - a**2 + b**2)**2 + 4 * (a**2 - b**2) * y**2)**0.5)\n",
    "H_5"
   ]
  },
  {
   "cell_type": "code",
   "execution_count": 144,
   "metadata": {},
   "outputs": [],
   "source": [
    "sigma_xx = sigma_0*(1-rho_a*rho_b*(H_1/2 -(b/a+0.5)*H_4))\n",
    "sigma_yy = sigma_0*(-rho_a*rho_b*(H_2/2 -(b/a+0.5)*H_1))\n",
    "sigma_xy = sigma_0*(-rho_a*rho_b*(H_3/2 -(b/a+0.5)*H_5))\n",
    "\n"
   ]
  },
  {
   "cell_type": "code",
   "execution_count": 7,
   "metadata": {},
   "outputs": [
    {
     "name": "stdout",
     "output_type": "stream",
     "text": [
      "[[0.         0.         0.         0.         0.         0.\n",
      "  0.         0.         0.         0.        ]\n",
      " [0.11111111 0.11111111 0.11111111 0.11111111 0.11111111 0.11111111\n",
      "  0.11111111 0.11111111 0.11111111 0.11111111]\n",
      " [0.22222222 0.22222222 0.22222222 0.22222222 0.22222222 0.22222222\n",
      "  0.22222222 0.22222222 0.22222222 0.22222222]\n",
      " [0.33333333 0.33333333 0.33333333 0.33333333 0.33333333 0.33333333\n",
      "  0.33333333 0.33333333 0.33333333 0.33333333]\n",
      " [0.44444444 0.44444444 0.44444444 0.44444444 0.44444444 0.44444444\n",
      "  0.44444444 0.44444444 0.44444444 0.44444444]\n",
      " [0.55555556 0.55555556 0.55555556 0.55555556 0.55555556 0.55555556\n",
      "  0.55555556 0.55555556 0.55555556 0.55555556]\n",
      " [0.66666667 0.66666667 0.66666667 0.66666667 0.66666667 0.66666667\n",
      "  0.66666667 0.66666667 0.66666667 0.66666667]\n",
      " [0.77777778 0.77777778 0.77777778 0.77777778 0.77777778 0.77777778\n",
      "  0.77777778 0.77777778 0.77777778 0.77777778]\n",
      " [0.88888889 0.88888889 0.88888889 0.88888889 0.88888889 0.88888889\n",
      "  0.88888889 0.88888889 0.88888889 0.88888889]\n",
      " [1.         1.         1.         1.         1.         1.\n",
      "  1.         1.         1.         1.        ]]\n"
     ]
    },
    {
     "data": {
      "image/png": "[encoded data removed]",
      "text/plain": [
       "<Figure size 640x480 with 2 Axes>"
      ]
     },
     "metadata": {},
     "output_type": "display_data"
    }
   ],
   "source": [
    "\n",
    "import numpy as np\n",
    "class shape_fns:\n",
    "    def __init__(self, p=0):\n",
    "        self.p = p\n",
    "\n",
    "    def gridnize(self, ksi, neta):\n",
    "           ksi_, neta_ = np.meshgrid(ksi, neta, indexing='ij')\n",
    "           return ksi_, neta_\n",
    "\n",
    "    def expression(self, ksi, neta): \n",
    "        return np.where((ksi >= 0) & (neta >= 0) & (ksi + neta <= 1), 1-ksi-neta, 0)\n",
    "\n",
    "    def __call__(self, x=0, y=0):\n",
    "        x = np.asarray(x)  # convert x to a numpy array if it's not already\n",
    "        y = np.asarray(y)  # convert y to a numpy array if it's not already\n",
    "        ksi, neta = self.gridnize(x, y)\n",
    "        print(ksi)\n",
    "        return self.expression(ksi, neta)\n",
    "import matplotlib.pyplot as plt\n",
    "\n",
    "shape_fn = shape_fns()\n",
    "x = np.linspace(0, 1, 10)\n",
    "y = np.linspace(0, 1, 10)\n",
    "output = shape_fn(x, y)\n",
    "\n",
    "plt.imshow(output, origin='lower', extent=[0, 1, 0, 1], cmap='jet')\n",
    "plt.colorbar()\n",
    "plt.title('Shape Function')\n",
    "plt.xlabel('ksi')\n",
    "plt.ylabel('neta')\n",
    "plt.show()\n"
   ]
  },
  {
   "cell_type": "code",
   "execution_count": 51,
   "metadata": {},
   "outputs": [
    {
     "name": "stdout",
     "output_type": "stream",
     "text": [
      "[0, 0] 0\n",
      "[1, 0] 1\n",
      "[0, 1] 2\n",
      "False\n"
     ]
    },
    {
     "data": {
      "image/png": "[encoded data removed]",
      "text/plain": [
       "<Figure size 640x480 with 2 Axes>"
      ]
     },
     "metadata": {},
     "output_type": "display_data"
    },
    {
     "name": "stdout",
     "output_type": "stream",
     "text": [
      "(100, 100)\n"
     ]
    }
   ],
   "source": [
    "from shape_fns import *\n",
    "class Element:\n",
    "    def __init__(self, nodes, id=0):\n",
    "       \n",
    "        self.id = id\n",
    "        self.nodes = nodes\n",
    "        self.n_nodes = len(self.nodes)\n",
    "        self.vertices = []\n",
    "        for Node in self.nodes:\n",
    "            self.vertices.append(Node.xy)\n",
    "\n",
    "        self.phis = [T3_phi([0, 1], [0, 1], p) for p in range(len(self.nodes))]\n",
    "\n",
    "        self.neta = 1\n",
    "        self.ksi = 1\n",
    "\n",
    "\n",
    "    def in_element(self, point):\n",
    "        count = 0\n",
    "        polygon = np.array(self.vertices)\n",
    "        n = len(polygon)\n",
    "        for i in range(n):\n",
    "            p1, p2 = polygon[i], polygon[(i + 1) % n]\n",
    "\n",
    "            if np.all(p1 == point) or np.all(p2 == point):\n",
    "                return True\n",
    "\n",
    "            if p1[1] == p2[1]:\n",
    "                if point[1] == p1[1] and min(p1[0], p2[0]) <= point[0] <= max(p1[0], p2[0]):\n",
    "                    return True\n",
    "            elif min(p1[1], p2[1]) <= point[1] < max(p1[1], p2[1]):\n",
    "                x = (point[1] - p1[1]) * (p2[0] - p1[0]) / (p2[1] - p1[1]) + p1[0]  \n",
    "                if x == point[0]:\n",
    "                    return True\n",
    "                elif x > point[0]:\n",
    "                    count += 1\n",
    "        return count % 2 == 1\n",
    "    \n",
    "    def __call__(self, x=0, y=0):\n",
    "        \n",
    "        if isinstance(x, (int, float)) and isinstance(y, (int, float)):\n",
    "            # Deal with single numbers\n",
    "            value = 0\n",
    "            for i in range(len(self.nodes)):\n",
    "                if self.in_element([x, y]):\n",
    "                    value += self.nodes[i].value * self.phis[i](x, y)\n",
    "            return value\n",
    "        else:\n",
    "            # Deal with arrays\n",
    "            x = np.asarray(x)\n",
    "            y = np.asarray(y)\n",
    "\n",
    "            value = np.zeros((len(x), len(y)))\n",
    "            for i in range(len(self.nodes)):\n",
    "                for ix, x_val in enumerate(x):\n",
    "                    for iy, y_val in enumerate(y):\n",
    "                        if self.in_element([x_val, y_val]):\n",
    "                            value[iy, ix] += self.nodes[i].value * self.phis[i](x_val, y_val)\n",
    "            return value\n",
    "\n",
    "vertices = [[0, 0], [1, 0], [0, 1]]\n",
    "Node_list = []\n",
    "for i in range(len(vertices)):\n",
    "    node_this = Node(vertices[i], i)\n",
    "    # node_this.value = np.random.choice([1, 0])\n",
    "    node_this.value = i\n",
    "    print(vertices[i], i)\n",
    "    Node_list.append(node_this)\n",
    "triangle = Element(Node_list)\n",
    "x0, x1 = [0, 3]\n",
    "y0, y1 = [0, 2]\n",
    "x = np.linspace(x0, x1, 100)\n",
    "y = np.linspace(y0, y1, 100)\n",
    "output =triangle (x, y)\n",
    "print(triangle.in_element([1.75, .01]))\n",
    "# print(output)\n",
    "plt.imshow(output, origin='lower', extent=[x0, x1, y0, y1], cmap='jet')\n",
    "plt.colorbar()\n",
    "plt.title('Shape Function')\n",
    "plt.xlabel('x')\n",
    "plt.ylabel('y')\n",
    "plt.show()\n",
    "print(output.shape)\n",
    "\n"
   ]
  }
 ],
 "metadata": {
  "kernelspec": {
   "display_name": "FEM",
   "language": "python",
   "name": "python3"
  },
  "language_info": {
   "codemirror_mode": {
    "name": "ipython",
    "version": 3
   },
   "file_extension": ".py",
   "mimetype": "text/x-python",
   "name": "python",
   "nbconvert_exporter": "python",
   "pygments_lexer": "ipython3",
   "version": "3.9.16"
  },
  "orig_nbformat": 4
 },
 "nbformat": 4,
 "nbformat_minor": 2
}
