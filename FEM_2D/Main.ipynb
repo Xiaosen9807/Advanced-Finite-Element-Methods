{
 "cells": [
  {
   "cell_type": "code",
   "execution_count": 2,
   "metadata": {},
   "outputs": [],
   "source": [
    "import numpy as np\n",
    "import sympy as sp\n",
    "import matplotlib.pyplot as plt\n",
    "from tools_2D import *\n",
    "from shape_fns import *\n",
    "from Elements import *\n",
    "from Mesh import create_mesh, Boundary\n",
    "import pickle\n",
    "with open(\"data.pkl\", \"rb\") as f:\n",
    "    data_ori = pickle.load(f)\n"
   ]
  },
  {
   "cell_type": "code",
   "execution_count": null,
   "metadata": {},
   "outputs": [],
   "source": [
    "def draw(elements_list):\n",
    "   global_min = min([np.min([test_element(xy[0], xy[1]) for xy in test_element.sample_points(refine)]) for test_element in elements_list])\n",
    "   global_max = max([np.max([test_element(xy[0], xy[1]) for xy in test_element.sample_points(refine)]) for test_element in elements_list])\n",
    "\n",
    "   for i in range(len(elements_list)):\n",
    "      test_element = elements_list[i]\n",
    "      test_mapping = test_element.mapping(refine)\n",
    "      test_inputs = test_element.sample_points(refine)\n",
    "      test_output = [test_element(xy[0], xy[1], 'xy') for xy in test_inputs]\n",
    "      test_x, test_y, test_z = grid_to_mat(test_mapping, test_output)\n",
    "      plt.imshow(test_z, extent=(test_mapping[:, 0].min(),\n",
    "                                 test_mapping[:, 0].max(),\n",
    "                                 test_mapping[:, 1].min(),\n",
    "                                 test_mapping[:, 1].max()),\n",
    "               origin='lower', aspect='auto', cmap='RdBu',\n",
    "               vmin=global_min, vmax=global_max)\n",
    "         # 绘制元素的边界\n",
    "      vertices = test_element.vertices\n",
    "      vertices = np.vstack([vertices, vertices[0]])  # 将第一个顶点再次添加到数组的末尾，以便封闭形状\n",
    "      vertices_x, vertices_y = zip(*vertices)  # 解压顶点坐标\n",
    "      plt.plot(vertices_x, vertices_y, color='white')  # 使用黑色线绘制边界，并使用小圆点表示顶点\n",
    "\n",
    "   plt.xlim(0, 40)\n",
    "   plt.ylim(0, 40)\n",
    "   # Display the color bar\n",
    "   plt.colorbar()\n",
    "   plt.legend()\n",
    "   plt.show()"
   ]
  }
 ],
 "metadata": {
  "kernelspec": {
   "display_name": "FEM",
   "language": "python",
   "name": "python3"
  },
  "language_info": {
   "codemirror_mode": {
    "name": "ipython",
    "version": 3
   },
   "file_extension": ".py",
   "mimetype": "text/x-python",
   "name": "python",
   "nbconvert_exporter": "python",
   "pygments_lexer": "ipython3",
   "version": "3.9.16"
  },
  "orig_nbformat": 4
 },
 "nbformat": 4,
 "nbformat_minor": 2
}
